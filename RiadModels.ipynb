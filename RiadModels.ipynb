{
  "cells": [
    {
      "cell_type": "markdown",
      "source": [
        "Imports\n"
      ],
      "metadata": {
        "id": "8PnIxTODqp6-"
      }
    },
    {
      "cell_type": "code",
      "source": [
        "import pandas as pd\n",
        "from sklearn.naive_bayes import GaussianNB\n",
        "from tensorflow.keras.callbacks import EarlyStopping\n",
        "from tensorflow.keras.models import Sequential\n",
        "from tensorflow.keras.layers import Embedding, GlobalAveragePooling1D, Dense, Dropout, LSTM, Bidirectional\n",
        "from nltk.stem import PorterStemmer,WordNetLemmatizer\n",
        "from nltk.tokenize import sent_tokenize, word_tokenize\n",
        "import numpy as np\n",
        "import gensim\n",
        "from gensim.models import Word2Vec\n",
        "import tensorflow.keras as keras\n",
        "from sklearn.feature_extraction.text import CountVectorizer\n",
        "from nltk.corpus import stopwords\n",
        "from keras.preprocessing.text import Tokenizer\n",
        "from keras.preprocessing.sequence import pad_sequences\n",
        "import matplotlib.pyplot as plt\n",
        "import tensorflow as tf\n",
        "import nltk\n",
        "nltk.download('stopwords')\n",
        "import re\n",
        "from sklearn.model_selection import train_test_split\n",
        "from keras.layers import SimpleRNN\n",
        "from sklearn.naive_bayes import MultinomialNB\n",
        "from sklearn.naive_bayes import MultinomialNB\n",
        "from sklearn.model_selection import GridSearchCV\n",
        "from xgboost import XGBClassifier\n",
        "from sklearn.metrics import classification_report, accuracy_score\n",
        "import numpy as np\n",
        "from sklearn.metrics import classification_report\n",
        "from sklearn.metrics import confusion_matrix\n",
        "from sklearn.metrics import accuracy_score\n",
        "from sklearn.neighbors import KNeighborsClassifier\n",
        "from sklearn.metrics import classification_report\n",
        "from sklearn.metrics import confusion_matrix\n",
        "from sklearn.metrics import accuracy_score\n"
      ],
      "metadata": {
        "colab": {
          "base_uri": "https://localhost:8080/"
        },
        "id": "eh4RqrDKqpVA",
        "outputId": "f3912181-3d6f-4a88-fd43-f84c2eb98184"
      },
      "execution_count": 1,
      "outputs": [
        {
          "output_type": "stream",
          "name": "stdout",
          "text": [
            "[nltk_data] Downloading package stopwords to /root/nltk_data...\n",
            "[nltk_data]   Unzipping corpora/stopwords.zip.\n"
          ]
        }
      ]
    },
    {
      "cell_type": "markdown",
      "source": [
        "DataSets Merging"
      ],
      "metadata": {
        "id": "3gi3PWWonslA"
      }
    },
    {
      "cell_type": "code",
      "source": [
        "train_dataset = pd.read_csv(\"spam_ham_dataset.csv\")\n",
        "test_dataset = pd.read_csv(\"messages.csv\",encoding='latin-1')\n",
        "dataset_Assas = pd.read_csv(\"completeSpamAssassin.csv\",encoding=\"latin-1\")\n",
        "dataset = pd.read_csv(\"spam_emails.csv\",encoding=\"latin-1\")\n",
        "\n",
        "X_TEST = list(dataset[\"v2\"])\n",
        "Y_TEST = [1 if i==\"spam\" else 0 for i in dataset[\"v1\"]]\n",
        "\n",
        "Y4 = list(dataset_Assas['Label'])\n",
        "X4 = list(dataset_Assas['Body'])\n",
        "\n",
        "\n",
        "Y2 = list(train_dataset['label_num'])\n",
        "X2 = list(train_dataset['text'])\n",
        "\n",
        "Y1 = list(test_dataset[\"label\"])\n",
        "X1 = list(test_dataset[\"message\"])\n",
        "X3 = X1+X2+X4+X_TEST\n",
        "X3 = pd.Series(X3)\n",
        "Y3 = Y1+Y2+Y4+Y_TEST\n",
        "Y3 = pd.Series(Y3)\n",
        "print(X3.shape,pd.Series(X1).shape,pd.Series(X2).shape)\n",
        "print(Y3.shape,pd.Series(Y1).shape,pd.Series(Y2).shape)"
      ],
      "metadata": {
        "colab": {
          "base_uri": "https://localhost:8080/"
        },
        "id": "_PogBXL6m52p",
        "outputId": "c3a2e9fb-ce76-40bf-cd2f-6f42021883ef"
      },
      "execution_count": 2,
      "outputs": [
        {
          "output_type": "stream",
          "name": "stdout",
          "text": [
            "(19682,) (2893,) (5171,)\n",
            "(19682,) (2893,) (5171,)\n"
          ]
        }
      ]
    },
    {
      "cell_type": "markdown",
      "metadata": {
        "id": "AKYbLdvkPekI"
      },
      "source": [
        "Data Cleaning (preprocessing)\n"
      ]
    },
    {
      "cell_type": "code",
      "execution_count": 3,
      "metadata": {
        "id": "_ZJla05j8CS5",
        "colab": {
          "base_uri": "https://localhost:8080/"
        },
        "outputId": "b78c6db0-8f5b-4c0f-df8d-4df8fbe51377"
      },
      "outputs": [
        {
          "output_type": "stream",
          "name": "stdout",
          "text": [
            "(19682, 50) (19682,)\n"
          ]
        }
      ],
      "source": [
        "\n",
        "\n",
        "text_cleaning_re = \"@\\S+|https?:\\S+|http?:\\S+|[^A-Za-z0-9]:\\S+|subject:\\S+|nbsp\"\n",
        "def preprocess(text, stem=False):\n",
        "    stemmer = PorterStemmer()\n",
        "    text = re.sub(text_cleaning_re, ' ', str(text).lower()).strip()\n",
        "    tokens = []\n",
        "    for token in text.split():\n",
        "        if token not in stop_words:\n",
        "            if stem:\n",
        "                tokens.append(stemmer.stem(token))\n",
        "            else:\n",
        "                tokens.append(token)\n",
        "    return \" \".join(tokens)\n",
        "\n",
        "\n",
        "stop_words = stopwords.words('english')\n",
        "\n",
        "\n",
        "\n",
        "#Data Preprocessing: (word stem)\n",
        "\n",
        "X3 = X3.apply(lambda x: preprocess(x,True))\n",
        "\n",
        "\n",
        "#Wor2vec part/ tokenization\n",
        "tokenizer = Tokenizer()\n",
        "\n",
        "tokenizer.fit_on_texts(X3)\n",
        "\n",
        "\n",
        "word_index = tokenizer.word_index\n",
        "vocab_size = len(tokenizer.word_index) + 1000\n",
        "# print(\"Vocabulary Size :\", vocab_size)\n",
        "\n",
        "X3.head().reset_index()\n",
        "Y3.head().reset_index()\n",
        "\n",
        "X3 = pad_sequences(tokenizer.texts_to_sequences(X3),maxlen = 50)\n",
        "\n",
        "\n",
        "print(X3.shape,Y3.shape)\n"
      ]
    },
    {
      "cell_type": "markdown",
      "source": [
        "Splitting of the dataset\n"
      ],
      "metadata": {
        "id": "Y5dxML0A2AQu"
      }
    },
    {
      "cell_type": "code",
      "source": [
        "x_train, x_test, y_train, y_test = train_test_split(X3, Y3, test_size=0.3, random_state=0)\n",
        "\n",
        "x_train, x_train2, y_train, y_train2 = train_test_split(x_train, y_train, test_size=0.5, random_state=0,shuffle=True)\n"
      ],
      "metadata": {
        "id": "rmuXGw_v2F1Y"
      },
      "execution_count": 4,
      "outputs": []
    },
    {
      "cell_type": "markdown",
      "metadata": {
        "id": "8qcWU0gaPqJL"
      },
      "source": [
        "Model Training -LSTM-"
      ]
    },
    {
      "cell_type": "code",
      "execution_count": 5,
      "metadata": {
        "colab": {
          "base_uri": "https://localhost:8080/"
        },
        "id": "4PrxTT2rPtPv",
        "outputId": "48423e2e-1663-475f-c20b-48f4da222ca7"
      },
      "outputs": [
        {
          "output_type": "stream",
          "name": "stdout",
          "text": [
            "(6888, 50)\n",
            "Epoch 1/7\n",
            "216/216 - 55s - loss: 0.4330 - accuracy: 0.8257 - 55s/epoch - 255ms/step\n",
            "Epoch 2/7\n",
            "216/216 - 51s - loss: 0.2661 - accuracy: 0.9008 - 51s/epoch - 237ms/step\n",
            "Epoch 3/7\n",
            "216/216 - 51s - loss: 0.2197 - accuracy: 0.9169 - 51s/epoch - 236ms/step\n",
            "Epoch 4/7\n",
            "216/216 - 51s - loss: 0.2052 - accuracy: 0.9221 - 51s/epoch - 237ms/step\n",
            "Epoch 5/7\n",
            "216/216 - 51s - loss: 0.2181 - accuracy: 0.9201 - 51s/epoch - 236ms/step\n",
            "Epoch 6/7\n",
            "216/216 - 51s - loss: 0.1988 - accuracy: 0.9237 - 51s/epoch - 237ms/step\n",
            "Epoch 7/7\n",
            "216/216 - 51s - loss: 0.1918 - accuracy: 0.9260 - 51s/epoch - 238ms/step\n"
          ]
        }
      ],
      "source": [
        "\n",
        "MAX_SEQUENCE_LENGTH = 50\n",
        "n_lstm = 200\n",
        "drop_lstm = 0.2\n",
        "embeding_dim = 16\n",
        "drop_value = 0.2\n",
        "n_dense = 24\n",
        "num_epochs = 7\n",
        "early_stop = EarlyStopping(monitor='val_loss', patience=3)\n",
        "#LSTM Spam detection architecture\n",
        "model1 = Sequential()\n",
        "model1.add(Embedding(vocab_size, embeding_dim, input_length=MAX_SEQUENCE_LENGTH))\n",
        "model1.add(LSTM(n_lstm, dropout=drop_lstm, return_sequences=True))\n",
        "model1.add(LSTM(n_lstm, dropout=drop_lstm, return_sequences=True))\n",
        "model1.add(Dropout(0.1))\n",
        "model1.add(Dense(1, activation='sigmoid'))\n",
        "model1.compile(loss = 'binary_crossentropy', optimizer = 'adam', metrics=['accuracy'])\n",
        "# model1.compile(loss = 'binary_crossentropy', optimizer = 'adam', metrics=['accuracy'],validation_data=(x_valid,y_valid))\n",
        "print(x_train.shape)\n",
        "\n",
        "history = model1.fit(x_train, y_train, epochs=num_epochs, verbose=2)\n",
        "early_stop = EarlyStopping(monitor='accuracy', patience=2)\n"
      ]
    },
    {
      "cell_type": "code",
      "source": [
        "def plot_graphs(history, string):\n",
        "    plt.plot(history.history[string])\n",
        "    plt.xlabel(\"Epochs\")\n",
        "    plt.ylabel(string)\n",
        "    plt.legend([string, 'val_'+string])\n",
        "    plt.show()\n",
        "\n",
        "plot_graphs(history, \"accuracy\")\n",
        "plot_graphs(history, \"loss\")"
      ],
      "metadata": {
        "colab": {
          "base_uri": "https://localhost:8080/",
          "height": 541
        },
        "id": "W8LEP6pxDMit",
        "outputId": "f1b9a8c4-d062-4920-db75-407b4db74fa0"
      },
      "execution_count": 6,
      "outputs": [
        {
          "output_type": "display_data",
          "data": {
            "text/plain": [
              "<Figure size 432x288 with 1 Axes>"
            ],
            "image/png": "[encoded data removed]"
          },
          "metadata": {
            "needs_background": "light"
          }
        },
        {
          "output_type": "display_data",
          "data": {
            "text/plain": [
              "<Figure size 432x288 with 1 Axes>"
            ],
            "image/png": "[encoded data removed]"
          },
          "metadata": {
            "needs_background": "light"
          }
        }
      ]
    },
    {
      "cell_type": "markdown",
      "source": [
        "Training of the model 5 -Bi LSTM-\n"
      ],
      "metadata": {
        "id": "yy3xDfBH8fJX"
      }
    },
    {
      "cell_type": "code",
      "source": [
        "BiLSTM = Sequential()\n",
        "BiLSTM.add(Embedding(vocab_size, embeding_dim, input_length=MAX_SEQUENCE_LENGTH))\n",
        "BiLSTM.add(Bidirectional(LSTM(n_lstm, dropout=drop_lstm, return_sequences=True)))\n",
        "BiLSTM.add(Dense(1, activation='sigmoid'))\n",
        "BiLSTM.compile(loss = 'binary_crossentropy', optimizer = 'adam', metrics=['accuracy'])\n",
        "# Training\n",
        "num_epochs = 5\n",
        "early_stop = EarlyStopping(monitor='accuracy', patience=2)\n",
        "history = BiLSTM.fit(x_train, y_train, epochs=num_epochs, \n",
        "                    callbacks =[early_stop], verbose=2)"
      ],
      "metadata": {
        "colab": {
          "base_uri": "https://localhost:8080/"
        },
        "id": "mETsPSMk8kK8",
        "outputId": "3547e98d-db26-48f5-94cb-7c0c0bf1d227"
      },
      "execution_count": 7,
      "outputs": [
        {
          "output_type": "stream",
          "name": "stdout",
          "text": [
            "Epoch 1/5\n",
            "216/216 - 41s - loss: 0.3438 - accuracy: 0.8652 - 41s/epoch - 189ms/step\n",
            "Epoch 2/5\n",
            "216/216 - 37s - loss: 0.1016 - accuracy: 0.9636 - 37s/epoch - 173ms/step\n",
            "Epoch 3/5\n",
            "216/216 - 37s - loss: 0.0662 - accuracy: 0.9769 - 37s/epoch - 173ms/step\n",
            "Epoch 4/5\n",
            "216/216 - 37s - loss: 0.0440 - accuracy: 0.9834 - 37s/epoch - 173ms/step\n",
            "Epoch 5/5\n",
            "216/216 - 37s - loss: 0.0435 - accuracy: 0.9833 - 37s/epoch - 172ms/step\n"
          ]
        }
      ]
    },
    {
      "cell_type": "markdown",
      "source": [
        "Training of Model 2 -RNN-"
      ],
      "metadata": {
        "id": "ALkuA7N_h29z"
      }
    },
    {
      "cell_type": "code",
      "source": [
        "rnn = Sequential()\n",
        "rnn.add(SimpleRNN(128, activation='relu', input_dim=50 , return_sequences = True))\n",
        "rnn.add(SimpleRNN(64, activation='relu' ,  return_sequences = False))\n",
        "# Adding dropout to prevent overfitting\n",
        "#rnn.add(Dropout(0.1))\n",
        "rnn.add(Dense(1, activation='sigmoid'))\n",
        "rnn.compile(optimizer='adam', loss='binary_crossentropy', metrics=['accuracy'])\n",
        "\n",
        "x_train2 = x_train2.reshape(len(y_train2),1,50)\n",
        "y_train2 = np.array(y_train2).reshape(len(y_train2),1,1)\n",
        "rnn.fit(x_train2, y_train2, batch_size=100, epochs=150)"
      ],
      "metadata": {
        "colab": {
          "base_uri": "https://localhost:8080/"
        },
        "id": "gTdPZT9Qh582",
        "outputId": "8eea4de8-7418-41b4-e8bd-fbcb03c66853"
      },
      "execution_count": 8,
      "outputs": [
        {
          "output_type": "stream",
          "name": "stdout",
          "text": [
            "Epoch 1/150\n",
            "69/69 [==============================] - 2s 3ms/step - loss: 667.8979 - accuracy: 0.6114\n",
            "Epoch 2/150\n",
            "69/69 [==============================] - 0s 3ms/step - loss: 272.9192 - accuracy: 0.6513\n",
            "Epoch 3/150\n",
            "69/69 [==============================] - 0s 3ms/step - loss: 172.0852 - accuracy: 0.6828\n",
            "Epoch 4/150\n",
            "69/69 [==============================] - 0s 3ms/step - loss: 120.1629 - accuracy: 0.7058\n",
            "Epoch 5/150\n",
            "69/69 [==============================] - 0s 3ms/step - loss: 92.9794 - accuracy: 0.7185\n",
            "Epoch 6/150\n",
            "69/69 [==============================] - 0s 3ms/step - loss: 70.3450 - accuracy: 0.7399\n",
            "Epoch 7/150\n",
            "69/69 [==============================] - 0s 3ms/step - loss: 54.2758 - accuracy: 0.7561\n",
            "Epoch 8/150\n",
            "69/69 [==============================] - 0s 3ms/step - loss: 48.0927 - accuracy: 0.7644\n",
            "Epoch 9/150\n",
            "69/69 [==============================] - 0s 3ms/step - loss: 38.1921 - accuracy: 0.7786\n",
            "Epoch 10/150\n",
            "69/69 [==============================] - 0s 3ms/step - loss: 35.5383 - accuracy: 0.7826\n",
            "Epoch 11/150\n",
            "69/69 [==============================] - 0s 3ms/step - loss: 35.5054 - accuracy: 0.7914\n",
            "Epoch 12/150\n",
            "69/69 [==============================] - 0s 3ms/step - loss: 37.3565 - accuracy: 0.7946\n",
            "Epoch 13/150\n",
            "69/69 [==============================] - 0s 3ms/step - loss: 26.4570 - accuracy: 0.8122\n",
            "Epoch 14/150\n",
            "69/69 [==============================] - 0s 3ms/step - loss: 22.8574 - accuracy: 0.8223\n",
            "Epoch 15/150\n",
            "69/69 [==============================] - 0s 3ms/step - loss: 19.0391 - accuracy: 0.8376\n",
            "Epoch 16/150\n",
            "69/69 [==============================] - 0s 3ms/step - loss: 16.8754 - accuracy: 0.8374\n",
            "Epoch 17/150\n",
            "69/69 [==============================] - 0s 3ms/step - loss: 19.9791 - accuracy: 0.8393\n",
            "Epoch 18/150\n",
            "69/69 [==============================] - 0s 3ms/step - loss: 18.7453 - accuracy: 0.8370\n",
            "Epoch 19/150\n",
            "69/69 [==============================] - 0s 3ms/step - loss: 18.8868 - accuracy: 0.8383\n",
            "Epoch 20/150\n",
            "69/69 [==============================] - 0s 3ms/step - loss: 18.5592 - accuracy: 0.8395\n",
            "Epoch 21/150\n",
            "69/69 [==============================] - 0s 3ms/step - loss: 14.4354 - accuracy: 0.8544\n",
            "Epoch 22/150\n",
            "69/69 [==============================] - 0s 3ms/step - loss: 12.6088 - accuracy: 0.8531\n",
            "Epoch 23/150\n",
            "69/69 [==============================] - 0s 3ms/step - loss: 18.1807 - accuracy: 0.8392\n",
            "Epoch 24/150\n",
            "69/69 [==============================] - 0s 3ms/step - loss: 14.6465 - accuracy: 0.8474\n",
            "Epoch 25/150\n",
            "69/69 [==============================] - 0s 3ms/step - loss: 15.8774 - accuracy: 0.8480\n",
            "Epoch 26/150\n",
            "69/69 [==============================] - 0s 3ms/step - loss: 13.1322 - accuracy: 0.8569\n",
            "Epoch 27/150\n",
            "69/69 [==============================] - 0s 3ms/step - loss: 12.9772 - accuracy: 0.8572\n",
            "Epoch 28/150\n",
            "69/69 [==============================] - 0s 3ms/step - loss: 14.2704 - accuracy: 0.8548\n",
            "Epoch 29/150\n",
            "69/69 [==============================] - 0s 3ms/step - loss: 11.3615 - accuracy: 0.8644\n",
            "Epoch 30/150\n",
            "69/69 [==============================] - 0s 3ms/step - loss: 11.8472 - accuracy: 0.8657\n",
            "Epoch 31/150\n",
            "69/69 [==============================] - 0s 3ms/step - loss: 11.3647 - accuracy: 0.8647\n",
            "Epoch 32/150\n",
            "69/69 [==============================] - 0s 3ms/step - loss: 12.3446 - accuracy: 0.8666\n",
            "Epoch 33/150\n",
            "69/69 [==============================] - 0s 3ms/step - loss: 12.0003 - accuracy: 0.8657\n",
            "Epoch 34/150\n",
            "69/69 [==============================] - 0s 3ms/step - loss: 10.0320 - accuracy: 0.8746\n",
            "Epoch 35/150\n",
            "69/69 [==============================] - 0s 3ms/step - loss: 8.6366 - accuracy: 0.8792\n",
            "Epoch 36/150\n",
            "69/69 [==============================] - 0s 3ms/step - loss: 10.6774 - accuracy: 0.8762\n",
            "Epoch 37/150\n",
            "69/69 [==============================] - 0s 3ms/step - loss: 9.1980 - accuracy: 0.8759\n",
            "Epoch 38/150\n",
            "69/69 [==============================] - 0s 3ms/step - loss: 6.7410 - accuracy: 0.8875\n",
            "Epoch 39/150\n",
            "69/69 [==============================] - 0s 3ms/step - loss: 6.5897 - accuracy: 0.8958\n",
            "Epoch 40/150\n",
            "69/69 [==============================] - 0s 3ms/step - loss: 7.7818 - accuracy: 0.8853\n",
            "Epoch 41/150\n",
            "69/69 [==============================] - 0s 3ms/step - loss: 8.4951 - accuracy: 0.8846\n",
            "Epoch 42/150\n",
            "69/69 [==============================] - 0s 3ms/step - loss: 9.7724 - accuracy: 0.8794\n",
            "Epoch 43/150\n",
            "69/69 [==============================] - 0s 3ms/step - loss: 7.8485 - accuracy: 0.8829\n",
            "Epoch 44/150\n",
            "69/69 [==============================] - 0s 3ms/step - loss: 7.8795 - accuracy: 0.8904\n",
            "Epoch 45/150\n",
            "69/69 [==============================] - 0s 3ms/step - loss: 12.1609 - accuracy: 0.8695\n",
            "Epoch 46/150\n",
            "69/69 [==============================] - 0s 3ms/step - loss: 7.9474 - accuracy: 0.8923\n",
            "Epoch 47/150\n",
            "69/69 [==============================] - 0s 3ms/step - loss: 6.1953 - accuracy: 0.8927\n",
            "Epoch 48/150\n",
            "69/69 [==============================] - 0s 3ms/step - loss: 8.7874 - accuracy: 0.8874\n",
            "Epoch 49/150\n",
            "69/69 [==============================] - 0s 3ms/step - loss: 7.4880 - accuracy: 0.8907\n",
            "Epoch 50/150\n",
            "69/69 [==============================] - 0s 3ms/step - loss: 9.0970 - accuracy: 0.8853\n",
            "Epoch 51/150\n",
            "69/69 [==============================] - 0s 3ms/step - loss: 7.1986 - accuracy: 0.8932\n",
            "Epoch 52/150\n",
            "69/69 [==============================] - 0s 3ms/step - loss: 6.1126 - accuracy: 0.8900\n",
            "Epoch 53/150\n",
            "69/69 [==============================] - 0s 3ms/step - loss: 7.3515 - accuracy: 0.8894\n",
            "Epoch 54/150\n",
            "69/69 [==============================] - 0s 3ms/step - loss: 8.2598 - accuracy: 0.8843\n",
            "Epoch 55/150\n",
            "69/69 [==============================] - 0s 3ms/step - loss: 5.6462 - accuracy: 0.8958\n",
            "Epoch 56/150\n",
            "69/69 [==============================] - 0s 3ms/step - loss: 6.6103 - accuracy: 0.8946\n",
            "Epoch 57/150\n",
            "69/69 [==============================] - 0s 3ms/step - loss: 6.0617 - accuracy: 0.9000\n",
            "Epoch 58/150\n",
            "69/69 [==============================] - 0s 3ms/step - loss: 4.9654 - accuracy: 0.9036\n",
            "Epoch 59/150\n",
            "69/69 [==============================] - 0s 3ms/step - loss: 6.1657 - accuracy: 0.8996\n",
            "Epoch 60/150\n",
            "69/69 [==============================] - 0s 3ms/step - loss: 5.4004 - accuracy: 0.9016\n",
            "Epoch 61/150\n",
            "69/69 [==============================] - 0s 3ms/step - loss: 6.4175 - accuracy: 0.8980\n",
            "Epoch 62/150\n",
            "69/69 [==============================] - 0s 3ms/step - loss: 8.8046 - accuracy: 0.8850\n",
            "Epoch 63/150\n",
            "69/69 [==============================] - 0s 3ms/step - loss: 6.0341 - accuracy: 0.8919\n",
            "Epoch 64/150\n",
            "69/69 [==============================] - 0s 3ms/step - loss: 6.6762 - accuracy: 0.8956\n",
            "Epoch 65/150\n",
            "69/69 [==============================] - 0s 3ms/step - loss: 6.4561 - accuracy: 0.8990\n",
            "Epoch 66/150\n",
            "69/69 [==============================] - 0s 3ms/step - loss: 6.2070 - accuracy: 0.8940\n",
            "Epoch 67/150\n",
            "69/69 [==============================] - 0s 3ms/step - loss: 4.7508 - accuracy: 0.9052\n",
            "Epoch 68/150\n",
            "69/69 [==============================] - 0s 3ms/step - loss: 5.6230 - accuracy: 0.8968\n",
            "Epoch 69/150\n",
            "69/69 [==============================] - 0s 3ms/step - loss: 5.2316 - accuracy: 0.9011\n",
            "Epoch 70/150\n",
            "69/69 [==============================] - 0s 3ms/step - loss: 5.3412 - accuracy: 0.8984\n",
            "Epoch 71/150\n",
            "69/69 [==============================] - 0s 3ms/step - loss: 6.3458 - accuracy: 0.8863\n",
            "Epoch 72/150\n",
            "69/69 [==============================] - 0s 3ms/step - loss: 6.3201 - accuracy: 0.8935\n",
            "Epoch 73/150\n",
            "69/69 [==============================] - 0s 3ms/step - loss: 3.7601 - accuracy: 0.9146\n",
            "Epoch 74/150\n",
            "69/69 [==============================] - 0s 3ms/step - loss: 4.2251 - accuracy: 0.9104\n",
            "Epoch 75/150\n",
            "69/69 [==============================] - 0s 3ms/step - loss: 4.9901 - accuracy: 0.9029\n",
            "Epoch 76/150\n",
            "69/69 [==============================] - 0s 3ms/step - loss: 3.8450 - accuracy: 0.9080\n",
            "Epoch 77/150\n",
            "69/69 [==============================] - 0s 3ms/step - loss: 3.6569 - accuracy: 0.9160\n",
            "Epoch 78/150\n",
            "69/69 [==============================] - 0s 3ms/step - loss: 3.8554 - accuracy: 0.9081\n",
            "Epoch 79/150\n",
            "69/69 [==============================] - 0s 3ms/step - loss: 3.6095 - accuracy: 0.9148\n",
            "Epoch 80/150\n",
            "69/69 [==============================] - 0s 3ms/step - loss: 3.9996 - accuracy: 0.9099\n",
            "Epoch 81/150\n",
            "69/69 [==============================] - 0s 3ms/step - loss: 4.1229 - accuracy: 0.9070\n",
            "Epoch 82/150\n",
            "69/69 [==============================] - 0s 3ms/step - loss: 2.3734 - accuracy: 0.9241\n",
            "Epoch 83/150\n",
            "69/69 [==============================] - 0s 3ms/step - loss: 4.1650 - accuracy: 0.9065\n",
            "Epoch 84/150\n",
            "69/69 [==============================] - 0s 3ms/step - loss: 5.0170 - accuracy: 0.9081\n",
            "Epoch 85/150\n",
            "69/69 [==============================] - 0s 3ms/step - loss: 3.4178 - accuracy: 0.9146\n",
            "Epoch 86/150\n",
            "69/69 [==============================] - 0s 3ms/step - loss: 3.6906 - accuracy: 0.9115\n",
            "Epoch 87/150\n",
            "69/69 [==============================] - 0s 3ms/step - loss: 3.5804 - accuracy: 0.9046\n",
            "Epoch 88/150\n",
            "69/69 [==============================] - 0s 3ms/step - loss: 3.2535 - accuracy: 0.9106\n",
            "Epoch 89/150\n",
            "69/69 [==============================] - 0s 3ms/step - loss: 3.1517 - accuracy: 0.9154\n",
            "Epoch 90/150\n",
            "69/69 [==============================] - 0s 3ms/step - loss: 2.0238 - accuracy: 0.9293\n",
            "Epoch 91/150\n",
            "69/69 [==============================] - 0s 3ms/step - loss: 2.3520 - accuracy: 0.9229\n",
            "Epoch 92/150\n",
            "69/69 [==============================] - 0s 3ms/step - loss: 2.9841 - accuracy: 0.9226\n",
            "Epoch 93/150\n",
            "69/69 [==============================] - 0s 3ms/step - loss: 3.0586 - accuracy: 0.9094\n",
            "Epoch 94/150\n",
            "69/69 [==============================] - 0s 3ms/step - loss: 3.1526 - accuracy: 0.9125\n",
            "Epoch 95/150\n",
            "69/69 [==============================] - 0s 3ms/step - loss: 3.0654 - accuracy: 0.9162\n",
            "Epoch 96/150\n",
            "69/69 [==============================] - 0s 3ms/step - loss: 3.3391 - accuracy: 0.9174\n",
            "Epoch 97/150\n",
            "69/69 [==============================] - 0s 3ms/step - loss: 2.9279 - accuracy: 0.9133\n",
            "Epoch 98/150\n",
            "69/69 [==============================] - 0s 3ms/step - loss: 2.7496 - accuracy: 0.9193\n",
            "Epoch 99/150\n",
            "69/69 [==============================] - 0s 3ms/step - loss: 3.9340 - accuracy: 0.9061\n",
            "Epoch 100/150\n",
            "69/69 [==============================] - 0s 3ms/step - loss: 3.4348 - accuracy: 0.9087\n",
            "Epoch 101/150\n",
            "69/69 [==============================] - 0s 3ms/step - loss: 3.6279 - accuracy: 0.9036\n",
            "Epoch 102/150\n",
            "69/69 [==============================] - 0s 3ms/step - loss: 3.1873 - accuracy: 0.9138\n",
            "Epoch 103/150\n",
            "69/69 [==============================] - 0s 3ms/step - loss: 2.1995 - accuracy: 0.9257\n",
            "Epoch 104/150\n",
            "69/69 [==============================] - 0s 3ms/step - loss: 1.7695 - accuracy: 0.9280\n",
            "Epoch 105/150\n",
            "69/69 [==============================] - 0s 3ms/step - loss: 1.9121 - accuracy: 0.9263\n",
            "Epoch 106/150\n",
            "69/69 [==============================] - 0s 3ms/step - loss: 2.4993 - accuracy: 0.9184\n",
            "Epoch 107/150\n",
            "69/69 [==============================] - 0s 3ms/step - loss: 1.6673 - accuracy: 0.9281\n",
            "Epoch 108/150\n",
            "69/69 [==============================] - 0s 3ms/step - loss: 1.3051 - accuracy: 0.9361\n",
            "Epoch 109/150\n",
            "69/69 [==============================] - 0s 3ms/step - loss: 1.4534 - accuracy: 0.9326\n",
            "Epoch 110/150\n",
            "69/69 [==============================] - 0s 3ms/step - loss: 1.8924 - accuracy: 0.9231\n",
            "Epoch 111/150\n",
            "69/69 [==============================] - 0s 3ms/step - loss: 2.3994 - accuracy: 0.9189\n",
            "Epoch 112/150\n",
            "69/69 [==============================] - 0s 3ms/step - loss: 4.2490 - accuracy: 0.9022\n",
            "Epoch 113/150\n",
            "69/69 [==============================] - 0s 3ms/step - loss: 3.2118 - accuracy: 0.9081\n",
            "Epoch 114/150\n",
            "69/69 [==============================] - 0s 3ms/step - loss: 2.8455 - accuracy: 0.9097\n",
            "Epoch 115/150\n",
            "69/69 [==============================] - 0s 3ms/step - loss: 1.7893 - accuracy: 0.9265\n",
            "Epoch 116/150\n",
            "69/69 [==============================] - 0s 3ms/step - loss: 1.6930 - accuracy: 0.9270\n",
            "Epoch 117/150\n",
            "69/69 [==============================] - 0s 3ms/step - loss: 1.3386 - accuracy: 0.9313\n",
            "Epoch 118/150\n",
            "69/69 [==============================] - 0s 3ms/step - loss: 2.0049 - accuracy: 0.9258\n",
            "Epoch 119/150\n",
            "69/69 [==============================] - 0s 3ms/step - loss: 1.4536 - accuracy: 0.9287\n",
            "Epoch 120/150\n",
            "69/69 [==============================] - 0s 3ms/step - loss: 1.1188 - accuracy: 0.9332\n",
            "Epoch 121/150\n",
            "69/69 [==============================] - 0s 3ms/step - loss: 1.0487 - accuracy: 0.9377\n",
            "Epoch 122/150\n",
            "69/69 [==============================] - 0s 3ms/step - loss: 1.0366 - accuracy: 0.9363\n",
            "Epoch 123/150\n",
            "69/69 [==============================] - 0s 3ms/step - loss: 0.8859 - accuracy: 0.9430\n",
            "Epoch 124/150\n",
            "69/69 [==============================] - 0s 3ms/step - loss: 1.3607 - accuracy: 0.9366\n",
            "Epoch 125/150\n",
            "69/69 [==============================] - 0s 3ms/step - loss: 1.2046 - accuracy: 0.9309\n",
            "Epoch 126/150\n",
            "69/69 [==============================] - 0s 3ms/step - loss: 1.2518 - accuracy: 0.9297\n",
            "Epoch 127/150\n",
            "69/69 [==============================] - 0s 3ms/step - loss: 1.7373 - accuracy: 0.9247\n",
            "Epoch 128/150\n",
            "69/69 [==============================] - 0s 3ms/step - loss: 1.6993 - accuracy: 0.9216\n",
            "Epoch 129/150\n",
            "69/69 [==============================] - 0s 3ms/step - loss: 1.6594 - accuracy: 0.9241\n",
            "Epoch 130/150\n",
            "69/69 [==============================] - 0s 3ms/step - loss: 2.1994 - accuracy: 0.9120\n",
            "Epoch 131/150\n",
            "69/69 [==============================] - 0s 3ms/step - loss: 2.0268 - accuracy: 0.9129\n",
            "Epoch 132/150\n",
            "69/69 [==============================] - 0s 4ms/step - loss: 1.4491 - accuracy: 0.9235\n",
            "Epoch 133/150\n",
            "69/69 [==============================] - 0s 3ms/step - loss: 0.9501 - accuracy: 0.9305\n",
            "Epoch 134/150\n",
            "69/69 [==============================] - 0s 3ms/step - loss: 1.1936 - accuracy: 0.9300\n",
            "Epoch 135/150\n",
            "69/69 [==============================] - 0s 3ms/step - loss: 1.2461 - accuracy: 0.9231\n",
            "Epoch 136/150\n",
            "69/69 [==============================] - 0s 3ms/step - loss: 1.3469 - accuracy: 0.9287\n",
            "Epoch 137/150\n",
            "69/69 [==============================] - 0s 3ms/step - loss: 0.9047 - accuracy: 0.9334\n",
            "Epoch 138/150\n",
            "69/69 [==============================] - 0s 3ms/step - loss: 1.1298 - accuracy: 0.9276\n",
            "Epoch 139/150\n",
            "69/69 [==============================] - 0s 3ms/step - loss: 0.9382 - accuracy: 0.9331\n",
            "Epoch 140/150\n",
            "69/69 [==============================] - 0s 3ms/step - loss: 0.9224 - accuracy: 0.9344\n",
            "Epoch 141/150\n",
            "69/69 [==============================] - 0s 3ms/step - loss: 0.9227 - accuracy: 0.9340\n",
            "Epoch 142/150\n",
            "69/69 [==============================] - 0s 3ms/step - loss: 1.4976 - accuracy: 0.9218\n",
            "Epoch 143/150\n",
            "69/69 [==============================] - 0s 3ms/step - loss: 1.9332 - accuracy: 0.9154\n",
            "Epoch 144/150\n",
            "69/69 [==============================] - 0s 3ms/step - loss: 1.1999 - accuracy: 0.9268\n",
            "Epoch 145/150\n",
            "69/69 [==============================] - 0s 3ms/step - loss: 1.1024 - accuracy: 0.9210\n",
            "Epoch 146/150\n",
            "69/69 [==============================] - 0s 3ms/step - loss: 0.7529 - accuracy: 0.9335\n",
            "Epoch 147/150\n",
            "69/69 [==============================] - 0s 3ms/step - loss: 0.9130 - accuracy: 0.9316\n",
            "Epoch 148/150\n",
            "69/69 [==============================] - 0s 3ms/step - loss: 1.1673 - accuracy: 0.9286\n",
            "Epoch 149/150\n",
            "69/69 [==============================] - 0s 3ms/step - loss: 0.8878 - accuracy: 0.9354\n",
            "Epoch 150/150\n",
            "69/69 [==============================] - 0s 3ms/step - loss: 0.8731 - accuracy: 0.9370\n"
          ]
        },
        {
          "output_type": "execute_result",
          "data": {
            "text/plain": [
              "<keras.callbacks.History at 0x7ffa198b70d0>"
            ]
          },
          "metadata": {},
          "execution_count": 8
        }
      ]
    },
    {
      "cell_type": "markdown",
      "source": [
        "Training of Model 3 -MNNB-"
      ],
      "metadata": {
        "id": "TBz_3M5-h6fu"
      }
    },
    {
      "cell_type": "code",
      "source": [
        "# Create the model with the best hyperparameters\n",
        "\n",
        "parameters = {\"alpha\": [0.2,1,2,5,10], \"fit_prior\": [True, False]}\n",
        "\n",
        "grid = GridSearchCV(MultinomialNB(), param_grid=parameters)\n",
        "grid.fit(x_train,y_train)\n",
        "\n",
        "# Create a DataFrame with the best Hyperparameters\n",
        "pd.DataFrame(grid.cv_results_)[['params','mean_test_score']]\\\n",
        "                               .sort_values(by=\"mean_test_score\", ascending=False)\n",
        "grid.best_params_\n",
        "alpha, fit_prior = grid.best_params_['alpha'], grid.best_params_['fit_prior']\n",
        "model = MultinomialNB(alpha = alpha)\n",
        "\n",
        "model.fit(x_train,y_train)\n",
        "# y_pred = model.predict(X_test)\n",
        "\n",
        "#"
      ],
      "metadata": {
        "id": "1FYSNrP-h8dP",
        "colab": {
          "base_uri": "https://localhost:8080/"
        },
        "outputId": "82b165f5-a22c-4cb6-ac06-6db80c07fe27"
      },
      "execution_count": 9,
      "outputs": [
        {
          "output_type": "execute_result",
          "data": {
            "text/plain": [
              "MultinomialNB(alpha=0.2)"
            ]
          },
          "metadata": {},
          "execution_count": 9
        }
      ]
    },
    {
      "cell_type": "code",
      "source": [
        ""
      ],
      "metadata": {
        "id": "KxUkpFtixWL3"
      },
      "execution_count": 9,
      "outputs": []
    },
    {
      "cell_type": "markdown",
      "metadata": {
        "id": "286R18I6P3Xs"
      },
      "source": [
        "Training of Model 4 -XGBoost-"
      ]
    },
    {
      "cell_type": "code",
      "source": [
        "xgb = XGBClassifier()\n",
        "xgb.fit(x_train, y_train)\n"
      ],
      "metadata": {
        "colab": {
          "base_uri": "https://localhost:8080/"
        },
        "id": "Wk7zuqmaGeH1",
        "outputId": "ff3c8eb4-5277-4863-cf1f-3a3e2d08f768"
      },
      "execution_count": 10,
      "outputs": [
        {
          "output_type": "execute_result",
          "data": {
            "text/plain": [
              "XGBClassifier()"
            ]
          },
          "metadata": {},
          "execution_count": 10
        }
      ]
    },
    {
      "cell_type": "markdown",
      "source": [
        "Training of Model 6 -NB-"
      ],
      "metadata": {
        "id": "ZY6Iyic4lnH6"
      }
    },
    {
      "cell_type": "code",
      "source": [
        "\n",
        "gnb = GaussianNB()\n",
        "gnb.fit(x_train, y_train)\n",
        "# print(classification_report(y_test, y_pred))\n",
        "# print(confusion_matrix(y_test, y_pred))\n",
        "# print(accuracy_score(y_test, y_pred)) "
      ],
      "metadata": {
        "colab": {
          "base_uri": "https://localhost:8080/"
        },
        "id": "zBFOspgzl8b4",
        "outputId": "c77185ee-5a43-4703-d208-6c2f65cd35e0"
      },
      "execution_count": 11,
      "outputs": [
        {
          "output_type": "execute_result",
          "data": {
            "text/plain": [
              "GaussianNB()"
            ]
          },
          "metadata": {},
          "execution_count": 11
        }
      ]
    },
    {
      "cell_type": "markdown",
      "source": [
        "Training of Model 7 -KNN-"
      ],
      "metadata": {
        "id": "Mi3_faz9mna6"
      }
    },
    {
      "cell_type": "code",
      "source": [
        "\n",
        "\n",
        "neigh = KNeighborsClassifier(n_neighbors=5)\n",
        "neigh.fit(x_train,y_train)\n"
      ],
      "metadata": {
        "colab": {
          "base_uri": "https://localhost:8080/"
        },
        "id": "_X9iwVIOmqe7",
        "outputId": "e2de9f77-4a66-4fb2-bd00-fd258c88ec96"
      },
      "execution_count": 12,
      "outputs": [
        {
          "output_type": "execute_result",
          "data": {
            "text/plain": [
              "KNeighborsClassifier()"
            ]
          },
          "metadata": {},
          "execution_count": 12
        }
      ]
    },
    {
      "cell_type": "code",
      "execution_count": 13,
      "metadata": {
        "id": "0CYNYomNBytz"
      },
      "outputs": [],
      "source": [
        "\n",
        "\n",
        "\n",
        "\n",
        "\n",
        "\n",
        "# model1.compile(loss = 'binary_crossentropy', optimizer = 'adam', metrics=['accuracy'],validation_data=(x_test,y_test))\n",
        "y1 = model1.predict(x_test)\n",
        "var1=(y1>0.5)\n",
        "x_test1 = x_test.reshape(len(y_test),1,50)\n",
        "\n",
        "y2 = rnn.predict(x_test1)\n",
        "var2=(y2>0.5)\n",
        "\n",
        "y3 = model.predict(x_test)\n",
        "var3=(y3>0.5)\n",
        "\n",
        "y4 = xgb.predict(x_test)\n",
        "var4 = (y4>0.5)\n",
        "\n",
        "y5 = BiLSTM.predict(x_test)\n",
        "var5 = (y5>0.5)\n",
        "\n",
        "y6 = gnb.predict(x_test)\n",
        "var6 = (y6>0.5)\n",
        "\n",
        "y7 = neigh.predict(x_test)\n",
        "var7 = (y7>0.5)"
      ]
    },
    {
      "cell_type": "code",
      "source": [
        "y_gnb = gnb.predict(x_test)\n",
        "var_gnb = (y_gnb>0.5)\n",
        "print(accuracy_score(var_gnb,y_test))"
      ],
      "metadata": {
        "colab": {
          "base_uri": "https://localhost:8080/"
        },
        "id": "QEK4ePMjV5J8",
        "outputId": "353cb88e-dfaf-49c0-ba81-095baee6ca0a"
      },
      "execution_count": 14,
      "outputs": [
        {
          "output_type": "stream",
          "name": "stdout",
          "text": [
            "0.6883996613039797\n"
          ]
        }
      ]
    },
    {
      "cell_type": "markdown",
      "source": [
        "phase de Test"
      ],
      "metadata": {
        "id": "AHhPF6NZHpq6"
      }
    },
    {
      "cell_type": "code",
      "source": [
        "\n",
        "\n",
        "\n",
        "cpt = 0\n",
        "tot = len(var1)\n",
        "print(y1.shape)\n",
        "\n",
        "y_test = list(y_test)\n",
        "\n",
        "for i in range(len(var1)):\n",
        "  if list(var1[i]).count([y_test[i]])/50 > 0.10 :\n",
        "    cpt += list(var1[i]).count([y_test[i]])/50 > 0.50 \n",
        "  \n",
        "  # print(var1[i][0])\n",
        "print(\"LSTM: \", cpt/tot)\n",
        "\n",
        "cpt = 0\n",
        "tot = len(var5)\n",
        "print(y5.shape)\n",
        "\n",
        "\n",
        "for i in range(len(var5)):\n",
        "  if list(var5[i]).count([y_test[i]])/50 > 0.10 :\n",
        "    cpt += list(var5[i]).count([y_test[i]])/50 > 0.50 \n",
        "  \n",
        "  # print(var1[i][0])\n",
        "print(\"BiLSTM: \", cpt/tot)\n",
        "\n",
        "cpt = 0\n",
        "tot = len(var2)\n",
        "print(y2.shape)\n",
        "\n",
        "for i in range(len(var2)):\n",
        "  if var2[i][0] == y_test[i] :\n",
        "    cpt += 1\n",
        "  \n",
        "  # print(var1[i][0])\n",
        "print(\"RNN: \", cpt/tot)\n",
        "\n",
        "\n",
        "cpt = 0\n",
        "tot = len(var3)\n",
        "print(y3.shape)\n",
        "for i in range(len(var3)):\n",
        "  if var3[i] == y_test[i] :\n",
        "    cpt += 1\n",
        "  # print(var1[i][0])\n",
        "print(\"MNB: \", cpt/tot)\n",
        "\n",
        "cpt = 0\n",
        "tot = len(var4)\n",
        "print(y4.shape)\n",
        "for i in range(len(var4)):\n",
        "  if var4[i] == y_test[i] :\n",
        "    cpt += 1\n",
        "  # print(var1[i][0])\n",
        "print(\"XGBoost: \", cpt/tot)\n",
        "\n",
        "cpt = 0\n",
        "tot = len(var6)\n",
        "print(y6.shape)\n",
        "for i in range(len(var6)):\n",
        "  if var6[i] == y_test[i] :\n",
        "    cpt += 1\n",
        "  # print(var1[i][0])\n",
        "print(\"GNB: \", cpt/tot)\n",
        "\n",
        "cpt = 0\n",
        "tot = len(var7)\n",
        "print(y7.shape)\n",
        "for i in range(len(var7)):\n",
        "  if var7[i] == y_test[i] :\n",
        "    cpt += 1\n",
        "  # print(var1[i][0])\n",
        "print(\"KNN: \", cpt/tot)\n",
        "\n",
        "EL_cpt = 0\n",
        "FP = 0\n",
        "FN = 0\n",
        "result = []\n",
        "for i in range(len(y_test)):\n",
        "  el = [y_test[i] if list(var1[i]).count([y_test[i]])/50 > 0.50 else not y_test[i],var7[i],y_test[i] if list(var5[i]).count([y_test[i]])/50 > 0.50 else not y_test[i]]\n",
        "\n",
        "  if(el.count(y_test[i]) >= 2):\n",
        "    EL_cpt += 1\n",
        "    result.append(y_test[i])\n",
        "  else:\n",
        "    result.append(not y_test[i])\n",
        "  if(el.count(False) >= 2 and y_test[i]): FN +=1\n",
        "  if(el.count(True) >= 2 and  not y_test[i]): FP +=1\n",
        "print(\"EL: \",EL_cpt/tot)\n",
        "print(\"EL False Negative: \",FN/tot)\n",
        "print(\"EL: False Positive\",FP/tot)\n",
        "\n",
        "print(classification_report(result, y_test))\n",
        "print(accuracy_score(result, y_test))\n",
        "\n"
      ],
      "metadata": {
        "colab": {
          "base_uri": "https://localhost:8080/"
        },
        "id": "oPXwVP3_-WfY",
        "outputId": "5a7e9a7c-f3f4-4c74-b800-cd416ce3ce46"
      },
      "execution_count": 15,
      "outputs": [
        {
          "output_type": "stream",
          "name": "stdout",
          "text": [
            "(5905, 50, 1)\n",
            "LSTM:  0.8658763759525826\n",
            "(5905, 50, 1)\n",
            "BiLSTM:  0.9429297205757833\n",
            "(5905, 1)\n",
            "RNN:  0.7302286198137172\n",
            "(5905,)\n",
            "MNB:  0.463844199830652\n",
            "(5905,)\n",
            "XGBoost:  0.8059271803556308\n",
            "(5905,)\n",
            "GNB:  0.6883996613039797\n",
            "(5905,)\n",
            "KNN:  0.7712108382726502\n",
            "EL:  0.8877222692633362\n",
            "EL False Negative:  0.10059271803556308\n",
            "EL: False Positive 0.011685012701100762\n",
            "              precision    recall  f1-score   support\n",
            "\n",
            "           0       0.98      0.88      0.93      5014\n",
            "           1       0.58      0.92      0.71       891\n",
            "\n",
            "    accuracy                           0.89      5905\n",
            "   macro avg       0.78      0.90      0.82      5905\n",
            "weighted avg       0.92      0.89      0.90      5905\n",
            "\n",
            "0.8877222692633362\n"
          ]
        }
      ]
    },
    {
      "cell_type": "code",
      "source": [
        "\n",
        "print(X_TEST[6],Y_TEST[6])"
      ],
      "metadata": {
        "colab": {
          "base_uri": "https://localhost:8080/"
        },
        "id": "fWl3H93Nyvng",
        "outputId": "1327038c-2d80-47c2-d0e8-7cf56511cede"
      },
      "execution_count": 16,
      "outputs": [
        {
          "output_type": "stream",
          "name": "stdout",
          "text": [
            "Even my brother is not like to speak with me. They treat me like aids patent. 0\n"
          ]
        }
      ]
    },
    {
      "cell_type": "markdown",
      "source": [
        "Test Function Defenition"
      ],
      "metadata": {
        "id": "XEFjFHZcmCtp"
      }
    },
    {
      "cell_type": "code",
      "source": [
        "def Ensemble_Predict(x):\n",
        "  xgboost = list(xgb.predict(x))\n",
        "  blstm = BiLSTM.predict(x)\n",
        "  lstm = model1.predict(x)\n",
        "  knn = list(neigh.predict(x))\n",
        "  NB = list(gnb.predict(x)) \n",
        "  ys = []\n",
        "  y_lstm = []\n",
        "  for i in lstm:\n",
        "    y_lstm.append(list(i).count([True])/len(i))\n",
        "  y_lstm = sum(y_lstm)/len(y_lstm)\n",
        "  ys.append(y_lstm)\n",
        "  y_blstm = []\n",
        "  for i in blstm:\n",
        "    if(list(i).count([True]) > len(i)): y_blstm.append(True)\n",
        "    else: y_blstm.append(False)\n",
        "  y_bilstm = y_blstm.count(True)/len(y_blstm)\n",
        "  ys.append(y_bilstm)\n",
        "  knn = knn.count(True)/len(knn)\n",
        "  ys.append(knn)\n",
        "  xgboost = xgboost.count(True)/len(xgboost)\n",
        "  NB = NB.count(True)/len(NB)\n",
        "  ys.append(xgboost)\n",
        "  ys.append(NB)\n",
        "  print(ys)\n",
        "  if(sum(ys)/5 > 0.5): return True\n",
        "  return False\n",
        "  \n",
        "  \n",
        "\n",
        "def predict_email(email):\n",
        "  e = preprocess(email)\n",
        "  tokenizer = Tokenizer()\n",
        "  tokenizer.fit_on_texts(e)\n",
        "\n",
        "  word_index = tokenizer.word_index\n",
        "  vocab_size = len(tokenizer.word_index)\n",
        "\n",
        "\n",
        "  x = pad_sequences(tokenizer.texts_to_sequences(e),maxlen = 50)\n",
        "  return Ensemble_Predict(x)\n"
      ],
      "metadata": {
        "id": "Kj7zKy6-l-jT"
      },
      "execution_count": 17,
      "outputs": []
    },
    {
      "cell_type": "markdown",
      "source": [
        "Custom Test"
      ],
      "metadata": {
        "id": "v6pZ-i1vmKz1"
      }
    },
    {
      "cell_type": "code",
      "source": [
        "import os\n",
        "for filename in os.listdir(\"./easy_ham\"):\n",
        "   with open(os.path.join(\"./easy_ham\", filename), 'r') as f: \n",
        "     email = f.read()\n",
        "     print(predict_email(email))\n",
        "  "
      ],
      "metadata": {
        "colab": {
          "base_uri": "https://localhost:8080/",
          "height": 235
        },
        "id": "Kvw6zQZKmKbq",
        "outputId": "c5a03ba0-8773-4188-8fa1-284f87137f89"
      },
      "execution_count": 18,
      "outputs": [
        {
          "output_type": "error",
          "ename": "FileNotFoundError",
          "evalue": "ignored",
          "traceback": [
            "\u001b[0;31m---------------------------------------------------------------------------\u001b[0m",
            "\u001b[0;31mFileNotFoundError\u001b[0m                         Traceback (most recent call last)",
            "\u001b[0;32m<ipython-input-18-1c7ccc132080>\u001b[0m in \u001b[0;36m<module>\u001b[0;34m()\u001b[0m\n\u001b[1;32m      1\u001b[0m \u001b[0;32mimport\u001b[0m \u001b[0mos\u001b[0m\u001b[0;34m\u001b[0m\u001b[0;34m\u001b[0m\u001b[0m\n\u001b[0;32m----> 2\u001b[0;31m \u001b[0;32mfor\u001b[0m \u001b[0mfilename\u001b[0m \u001b[0;32min\u001b[0m \u001b[0mos\u001b[0m\u001b[0;34m.\u001b[0m\u001b[0mlistdir\u001b[0m\u001b[0;34m(\u001b[0m\u001b[0;34m\"./easy_ham\"\u001b[0m\u001b[0;34m)\u001b[0m\u001b[0;34m:\u001b[0m\u001b[0;34m\u001b[0m\u001b[0;34m\u001b[0m\u001b[0m\n\u001b[0m\u001b[1;32m      3\u001b[0m    \u001b[0;32mwith\u001b[0m \u001b[0mopen\u001b[0m\u001b[0;34m(\u001b[0m\u001b[0mos\u001b[0m\u001b[0;34m.\u001b[0m\u001b[0mpath\u001b[0m\u001b[0;34m.\u001b[0m\u001b[0mjoin\u001b[0m\u001b[0;34m(\u001b[0m\u001b[0;34m\"./easy_ham\"\u001b[0m\u001b[0;34m,\u001b[0m \u001b[0mfilename\u001b[0m\u001b[0;34m)\u001b[0m\u001b[0;34m,\u001b[0m \u001b[0;34m'r'\u001b[0m\u001b[0;34m)\u001b[0m \u001b[0;32mas\u001b[0m \u001b[0mf\u001b[0m\u001b[0;34m:\u001b[0m\u001b[0;34m\u001b[0m\u001b[0;34m\u001b[0m\u001b[0m\n\u001b[1;32m      4\u001b[0m      \u001b[0memail\u001b[0m \u001b[0;34m=\u001b[0m \u001b[0mf\u001b[0m\u001b[0;34m.\u001b[0m\u001b[0mread\u001b[0m\u001b[0;34m(\u001b[0m\u001b[0;34m)\u001b[0m\u001b[0;34m\u001b[0m\u001b[0;34m\u001b[0m\u001b[0m\n\u001b[1;32m      5\u001b[0m      \u001b[0mprint\u001b[0m\u001b[0;34m(\u001b[0m\u001b[0mpredict_email\u001b[0m\u001b[0;34m(\u001b[0m\u001b[0memail\u001b[0m\u001b[0;34m)\u001b[0m\u001b[0;34m)\u001b[0m\u001b[0;34m\u001b[0m\u001b[0;34m\u001b[0m\u001b[0m\n",
            "\u001b[0;31mFileNotFoundError\u001b[0m: [Errno 2] No such file or directory: './easy_ham'"
          ]
        }
      ]
    },
    {
      "cell_type": "code",
      "source": [
        "for filename in os.listdir(\"./spam\"):\n",
        "  try:\n",
        "    with open(os.path.join(\"./spam\", filename), 'r') as f: \n",
        "      print(filename)\n",
        "      email = f.read()\n",
        "      print(predict_email(email))\n",
        "  except:\n",
        "    pass"
      ],
      "metadata": {
        "id": "hF6gUa4HN9uN"
      },
      "execution_count": null,
      "outputs": []
    },
    {
      "cell_type": "code",
      "source": [
        "datasettt = pd.read_csv(\"spam_ham_dataset.csv\")\n",
        "\n",
        "xxx = datasettt[\"text\"]\n",
        "xxx.apply(lambda x:preprocess(x,True))\n",
        "tokenizer = Tokenizer()\n",
        "tokenizer.fit_on_texts(xxx)\n",
        "\n",
        "word_index = tokenizer.word_index\n",
        "vocab_size = len(tokenizer.word_index)\n",
        "\n",
        "\n",
        "xxx = pad_sequences(tokenizer.texts_to_sequences(xxx),maxlen = 50)\n",
        "yyyy = xgb.predict(xxx)"
      ],
      "metadata": {
        "id": "WrylFDkRTykd"
      },
      "execution_count": null,
      "outputs": []
    },
    {
      "cell_type": "code",
      "source": [
        "print(yyyy)\n",
        "yyy = datasettt[\"label_num\"]\n",
        "print(accuracy_score(yyyy,yyy))"
      ],
      "metadata": {
        "id": "s6FVA6UqVs61"
      },
      "execution_count": null,
      "outputs": []
    }
  ],
  "metadata": {
    "colab": {
      "collapsed_sections": [],
      "name": "LSTM.ipynb",
      "provenance": []
    },
    "kernelspec": {
      "display_name": "Python 3",
      "name": "python3"
    },
    "language_info": {
      "name": "python"
    }
  },
  "nbformat": 4,
  "nbformat_minor": 0
}